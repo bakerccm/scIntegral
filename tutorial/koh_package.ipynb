{
 "cells": [
  {
   "cell_type": "markdown",
   "metadata": {},
   "source": [
    "# Scalable integration and classification of single cell RNA sequencing data"
   ]
  },
  {
   "cell_type": "markdown",
   "metadata": {},
   "source": [
    "This is the github repository of scIntegral (Lee et al.).\n",
    "We provide a brief tutorial of how to use the software using the open Koh et al. dataset."
   ]
  },
  {
   "cell_type": "markdown",
   "metadata": {},
   "source": [
    "## scIntegral tutorial using human embryogenic stem cell data (Koh et al.)"
   ]
  },
  {
   "cell_type": "markdown",
   "metadata": {},
   "source": [
    "### Load libraries\n",
    "In python, data are frequently stored in two forms : numpy arrays and pandas dataframes.\n",
    "We first load the data using these packages and convert them to torch tensor formats afterwards since scIntegral uses PyTorch as a backend.\n",
    "For visualization, matplotlib and seaborn is going to be used.\n",
    "The following codes loads the required packages."
   ]
  },
  {
   "cell_type": "code",
   "execution_count": 1,
   "metadata": {},
   "outputs": [],
   "source": [
    "import matplotlib.pyplot as plt\n",
    "import pandas as pd\n",
    "import numpy as np\n",
    "import torch\n",
    "import seaborn as sns\n",
    "from scipy.io import mmread"
   ]
  },
  {
   "cell_type": "markdown",
   "metadata": {},
   "source": [
    "### Torch configurations\n",
    "When using multiple gpu devices, the gpu being used must be specified.\n",
    "Now we store these devices in variables for future use.\n",
    "Additionally, in both CPU and GPU, storing data in float32 demands less memory and cpu resource.\n",
    "Therefore, we use float32 instead of float64 (double) as the default datatype."
   ]
  },
  {
   "cell_type": "code",
   "execution_count": 2,
   "metadata": {},
   "outputs": [],
   "source": [
    "dtype = torch.float32\n",
    "torch.set_default_dtype(dtype)\n",
    "device_cpu = torch.device('cpu')\n",
    "device_cuda_list = [torch.device(\"cuda:{}\".format(i)) for i in range(6)[::-1]]"
   ]
  },
  {
   "cell_type": "markdown",
   "metadata": {},
   "source": [
    "### Load data\n",
    "\n",
    "Here we load three files : the expression count matrix (koh.data.counts.mm), row names (=genes, koh.data.row) and column names (=samples, koh.data.col)."
   ]
  },
  {
   "cell_type": "code",
   "execution_count": 3,
   "metadata": {},
   "outputs": [],
   "source": [
    "exp_data=mmread('koh_extract/koh.data.counts.mm').toarray().astype(float)\n",
    "with open('koh_extract/koh.data.col','r') as f: exp_data_col=[i.strip().strip('\"') for i in f.read().split()]\n",
    "with open('koh_extract/koh.data.row','r') as f: exp_data_row=[i.strip().strip('\"') for i in f.read().split()]\n",
    "assert exp_data.shape==(len(exp_data_row),len(exp_data_col))"
   ]
  },
  {
   "cell_type": "markdown",
   "metadata": {},
   "source": [
    "### Load meta data\n",
    "\n",
    "This metadata file contians the true cell type labels in the 'celltype' column.\n",
    "Precomputed tSNE coordinates are also contained in this file."
   ]
  },
  {
   "cell_type": "code",
   "execution_count": 4,
   "metadata": {},
   "outputs": [
    {
     "data": {
      "text/html": [
       "<div>\n",
       "<style scoped>\n",
       "    .dataframe tbody tr th:only-of-type {\n",
       "        vertical-align: middle;\n",
       "    }\n",
       "\n",
       "    .dataframe tbody tr th {\n",
       "        vertical-align: top;\n",
       "    }\n",
       "\n",
       "    .dataframe thead th {\n",
       "        text-align: right;\n",
       "    }\n",
       "</style>\n",
       "<table border=\"1\" class=\"dataframe\">\n",
       "  <thead>\n",
       "    <tr style=\"text-align: right;\">\n",
       "      <th></th>\n",
       "      <th>Run</th>\n",
       "      <th>LibraryName</th>\n",
       "      <th>phenoid</th>\n",
       "      <th>libsize.drop</th>\n",
       "      <th>feature.drop</th>\n",
       "      <th>total_features</th>\n",
       "      <th>log10_total_features</th>\n",
       "      <th>total_counts</th>\n",
       "      <th>log10_total_counts</th>\n",
       "      <th>pct_counts_top_50_features</th>\n",
       "      <th>pct_counts_top_100_features</th>\n",
       "      <th>pct_counts_top_200_features</th>\n",
       "      <th>pct_counts_top_500_features</th>\n",
       "      <th>is_cell_control</th>\n",
       "      <th>celltype</th>\n",
       "      <th>tSNE_1</th>\n",
       "      <th>tSNE_2</th>\n",
       "    </tr>\n",
       "  </thead>\n",
       "  <tbody>\n",
       "    <tr>\n",
       "      <th>SRR3952323</th>\n",
       "      <td>SRR3952323</td>\n",
       "      <td>H7hESC</td>\n",
       "      <td>H7hESC</td>\n",
       "      <td>False</td>\n",
       "      <td>False</td>\n",
       "      <td>4895</td>\n",
       "      <td>3.689841</td>\n",
       "      <td>2.248411e+06</td>\n",
       "      <td>6.351876</td>\n",
       "      <td>18.278965</td>\n",
       "      <td>25.975390</td>\n",
       "      <td>35.537616</td>\n",
       "      <td>52.410941</td>\n",
       "      <td>False</td>\n",
       "      <td>hESC</td>\n",
       "      <td>9.973465</td>\n",
       "      <td>19.045918</td>\n",
       "    </tr>\n",
       "    <tr>\n",
       "      <th>SRR3952325</th>\n",
       "      <td>SRR3952325</td>\n",
       "      <td>H7hESC</td>\n",
       "      <td>H7hESC</td>\n",
       "      <td>False</td>\n",
       "      <td>False</td>\n",
       "      <td>4887</td>\n",
       "      <td>3.689131</td>\n",
       "      <td>2.271617e+06</td>\n",
       "      <td>6.356335</td>\n",
       "      <td>24.672529</td>\n",
       "      <td>32.222803</td>\n",
       "      <td>41.547358</td>\n",
       "      <td>57.969233</td>\n",
       "      <td>False</td>\n",
       "      <td>hESC</td>\n",
       "      <td>10.366232</td>\n",
       "      <td>21.511833</td>\n",
       "    </tr>\n",
       "    <tr>\n",
       "      <th>SRR3952326</th>\n",
       "      <td>SRR3952326</td>\n",
       "      <td>H7hESC</td>\n",
       "      <td>H7hESC</td>\n",
       "      <td>False</td>\n",
       "      <td>False</td>\n",
       "      <td>4888</td>\n",
       "      <td>3.689220</td>\n",
       "      <td>5.846824e+05</td>\n",
       "      <td>5.766921</td>\n",
       "      <td>22.732839</td>\n",
       "      <td>30.205988</td>\n",
       "      <td>39.431308</td>\n",
       "      <td>55.285817</td>\n",
       "      <td>False</td>\n",
       "      <td>hESC</td>\n",
       "      <td>9.881356</td>\n",
       "      <td>19.317197</td>\n",
       "    </tr>\n",
       "    <tr>\n",
       "      <th>SRR3952327</th>\n",
       "      <td>SRR3952327</td>\n",
       "      <td>H7hESC</td>\n",
       "      <td>H7hESC</td>\n",
       "      <td>False</td>\n",
       "      <td>False</td>\n",
       "      <td>4879</td>\n",
       "      <td>3.688420</td>\n",
       "      <td>3.191810e+06</td>\n",
       "      <td>6.504037</td>\n",
       "      <td>20.867378</td>\n",
       "      <td>29.003904</td>\n",
       "      <td>38.785558</td>\n",
       "      <td>56.020859</td>\n",
       "      <td>False</td>\n",
       "      <td>hESC</td>\n",
       "      <td>8.483966</td>\n",
       "      <td>21.289459</td>\n",
       "    </tr>\n",
       "    <tr>\n",
       "      <th>SRR3952328</th>\n",
       "      <td>SRR3952328</td>\n",
       "      <td>H7hESC</td>\n",
       "      <td>H7hESC</td>\n",
       "      <td>False</td>\n",
       "      <td>False</td>\n",
       "      <td>4873</td>\n",
       "      <td>3.687886</td>\n",
       "      <td>2.190385e+06</td>\n",
       "      <td>6.340521</td>\n",
       "      <td>21.287923</td>\n",
       "      <td>29.423689</td>\n",
       "      <td>39.307683</td>\n",
       "      <td>56.640975</td>\n",
       "      <td>False</td>\n",
       "      <td>hESC</td>\n",
       "      <td>9.017168</td>\n",
       "      <td>20.637262</td>\n",
       "    </tr>\n",
       "  </tbody>\n",
       "</table>\n",
       "</div>"
      ],
      "text/plain": [
       "                   Run LibraryName phenoid  libsize.drop  feature.drop  \\\n",
       "SRR3952323  SRR3952323      H7hESC  H7hESC         False         False   \n",
       "SRR3952325  SRR3952325      H7hESC  H7hESC         False         False   \n",
       "SRR3952326  SRR3952326      H7hESC  H7hESC         False         False   \n",
       "SRR3952327  SRR3952327      H7hESC  H7hESC         False         False   \n",
       "SRR3952328  SRR3952328      H7hESC  H7hESC         False         False   \n",
       "\n",
       "            total_features  log10_total_features  total_counts  \\\n",
       "SRR3952323            4895              3.689841  2.248411e+06   \n",
       "SRR3952325            4887              3.689131  2.271617e+06   \n",
       "SRR3952326            4888              3.689220  5.846824e+05   \n",
       "SRR3952327            4879              3.688420  3.191810e+06   \n",
       "SRR3952328            4873              3.687886  2.190385e+06   \n",
       "\n",
       "            log10_total_counts  pct_counts_top_50_features  \\\n",
       "SRR3952323            6.351876                   18.278965   \n",
       "SRR3952325            6.356335                   24.672529   \n",
       "SRR3952326            5.766921                   22.732839   \n",
       "SRR3952327            6.504037                   20.867378   \n",
       "SRR3952328            6.340521                   21.287923   \n",
       "\n",
       "            pct_counts_top_100_features  pct_counts_top_200_features  \\\n",
       "SRR3952323                    25.975390                    35.537616   \n",
       "SRR3952325                    32.222803                    41.547358   \n",
       "SRR3952326                    30.205988                    39.431308   \n",
       "SRR3952327                    29.003904                    38.785558   \n",
       "SRR3952328                    29.423689                    39.307683   \n",
       "\n",
       "            pct_counts_top_500_features  is_cell_control celltype     tSNE_1  \\\n",
       "SRR3952323                    52.410941            False     hESC   9.973465   \n",
       "SRR3952325                    57.969233            False     hESC  10.366232   \n",
       "SRR3952326                    55.285817            False     hESC   9.881356   \n",
       "SRR3952327                    56.020859            False     hESC   8.483966   \n",
       "SRR3952328                    56.640975            False     hESC   9.017168   \n",
       "\n",
       "               tSNE_2  \n",
       "SRR3952323  19.045918  \n",
       "SRR3952325  21.511833  \n",
       "SRR3952326  19.317197  \n",
       "SRR3952327  21.289459  \n",
       "SRR3952328  20.637262  "
      ]
     },
     "execution_count": 4,
     "metadata": {},
     "output_type": "execute_result"
    }
   ],
   "source": [
    "exp_data_meta=pd.read_csv('koh_extract/koh.metadata.tsv',sep='\\t')\n",
    "exp_data_meta.head()"
   ]
  },
  {
   "cell_type": "markdown",
   "metadata": {},
   "source": [
    "### Marker Info\n",
    "This file contains the marker specification constructed based on the procedure described in the manuscript."
   ]
  },
  {
   "cell_type": "code",
   "execution_count": 5,
   "metadata": {},
   "outputs": [],
   "source": [
    "clustername_to_markers=pd.read_csv('/data01/ch6845/dynamic_cell_classifier/data/koh_extract/koh.rho.tsv',sep='\\t').T"
   ]
  },
  {
   "cell_type": "markdown",
   "metadata": {},
   "source": [
    "### Preprocessing\n",
    "\n",
    "Here we subset the used genes, construct covariate matrix X."
   ]
  },
  {
   "cell_type": "code",
   "execution_count": 6,
   "metadata": {},
   "outputs": [
    {
     "data": {
      "text/plain": [
       "(446, 1)"
      ]
     },
     "execution_count": 6,
     "metadata": {},
     "output_type": "execute_result"
    }
   ],
   "source": [
    "marker_unique=list(clustername_to_markers.columns)\n",
    "marker_unique_exp_data_idx=[exp_data_row.index(marker) for marker in marker_unique]\n",
    "\n",
    "cell_size_factor=pd.read_csv('koh_extract/koh.size_factor_cluster.tsv',sep='\\t',header=None)[0].values.astype(float)#.reshape(-1,1)\n",
    "cell_size_factor.shape\n",
    "\n",
    "Y=exp_data[marker_unique_exp_data_idx].transpose().astype(float)\n",
    "Y.shape\n",
    "\n",
    "marker_onehot=clustername_to_markers\n",
    "\n",
    "# np.zeros in first line for non-baseline model, np.ones for baseline model\n",
    "x_data_intercept=np.array([np.ones(Y.shape[0])]).transpose()\n",
    "x_data_null=np.concatenate([x_data_intercept],axis=1)\n",
    "x_data_null.shape"
   ]
  },
  {
   "cell_type": "code",
   "execution_count": 7,
   "metadata": {},
   "outputs": [],
   "source": [
    "# review the variables before using them\n",
    "Y\n",
    "s = cell_size_factor\n",
    "X = x_data_null.copy()\n",
    "rho = marker_onehot.T"
   ]
  },
  {
   "cell_type": "markdown",
   "metadata": {},
   "source": [
    "# Run scIntegral (GPU-mode)\n"
   ]
  },
  {
   "cell_type": "markdown",
   "metadata": {},
   "source": [
    "### Load scintegral"
   ]
  },
  {
   "cell_type": "code",
   "execution_count": 8,
   "metadata": {},
   "outputs": [],
   "source": [
    "import sys\n",
    "sys.path.insert(0, \"../\")\n",
    "import scintegral as scint"
   ]
  },
  {
   "cell_type": "markdown",
   "metadata": {},
   "source": [
    "### Conversion to Torch format\n",
    "Now, we convert all the input variables to the PyTorch format before use."
   ]
  },
  {
   "cell_type": "code",
   "execution_count": 9,
   "metadata": {
    "scrolled": true
   },
   "outputs": [],
   "source": [
    "# when using gpu, you must specify device (gpu) number that is being used\n",
    "with torch.cuda.device(4):\n",
    "    Y = torch.tensor(Y, dtype=dtype).cuda()\n",
    "    X = torch.tensor(X, dtype=dtype).cuda()\n",
    "    s = torch.tensor(s, dtype=dtype).cuda()"
   ]
  },
  {
   "cell_type": "markdown",
   "metadata": {},
   "source": [
    "The device number when calling scIntegral (4 in this tutorial) must match with device number in which the data was loaded "
   ]
  },
  {
   "cell_type": "code",
   "execution_count": 10,
   "metadata": {},
   "outputs": [
    {
     "name": "stdout",
     "output_type": "stream",
     "text": [
      "Loss at initialization: 254943.219\n",
      "Start optimization\n",
      "0-th iteration, Loss: 250433.953\n",
      "20-th iteration, Loss: 211579.125\n",
      "40-th iteration, Loss: 209208.047\n"
     ]
    }
   ],
   "source": [
    "with torch.cuda.device(4):\n",
    "    cell_types, post_probs = scint.classify(Y, X, s, 8, rho, use_gpu=True)"
   ]
  },
  {
   "cell_type": "markdown",
   "metadata": {},
   "source": [
    "We plot the classification result in tSNE using seaborn"
   ]
  },
  {
   "cell_type": "code",
   "execution_count": 11,
   "metadata": {},
   "outputs": [
    {
     "data": {
      "image/png": "[encoded data removed]",
      "text/plain": [
       "<Figure size 432x288 with 1 Axes>"
      ]
     },
     "metadata": {
      "needs_background": "light"
     },
     "output_type": "display_data"
    }
   ],
   "source": [
    "sns.scatterplot('tSNE_1', 'tSNE_2', hue=cell_types, data=exp_data_meta)\n",
    "plt.show()"
   ]
  }
 ],
 "metadata": {
  "kernelspec": {
   "display_name": "Python 3",
   "language": "python",
   "name": "python3"
  },
  "language_info": {
   "codemirror_mode": {
    "name": "ipython",
    "version": 3
   },
   "file_extension": ".py",
   "mimetype": "text/x-python",
   "name": "python",
   "nbconvert_exporter": "python",
   "pygments_lexer": "ipython3",
   "version": "3.7.6"
  }
 },
 "nbformat": 4,
 "nbformat_minor": 4
}
